{
 "cells": [
  {
   "cell_type": "code",
   "execution_count": null,
   "id": "f6f09f81-66ae-4b56-80bf-e00b853e5f2b",
   "metadata": {},
   "outputs": [],
   "source": [
    "print(\"Hello from GitHub Codespaces!\")"
   ]
  },
  {
   "cell_type": "markdown",
   "id": "99f9cb15",
   "metadata": {},
   "source": [
    "# docker command"
   ]
  },
  {
   "cell_type": "markdown",
   "id": "eccfbbf9",
   "metadata": {},
   "source": [
    "docker network create pg-network\n",
    "\n",
    "docker volume create --name dtc_postgres_volume_local -d local\n",
    "\n",
    "docker run -it \\\n",
    "\t-e POSTGRES_USER=\"root\" \\\n",
    "\t-e POSTGRES_PASSWORD=\"root\" \\\n",
    "\t-e POSTGRES_DB=\"ny_taxi\" \\\n",
    "\t-v dtc_postgres_volume_local:var/lib/postgresql/data \\\n",
    "\t-p 5432:5432 \\\n",
    "\t--network=pg-network \\\n",
    "\t--name pg-database \\\n",
    "\tpostgres:13\n",
    "\t\n",
    "\t\n",
    "docker run -it \\\n",
    "\t-e PGADMIN_DEFAULT_EMAIL=\"admin@admin.com\" \\\n",
    "\t-e PGADMIN_DEFAULT_PASSWORD=\"root\" \\\n",
    "\t-p 8080:80 \\\n",
    "\t--network=pg-network \\\n",
    "\t--name pgadmin \\\n",
    "\tdpage/pgadmin4\n"
   ]
  },
  {
   "cell_type": "markdown",
   "id": "ceb09394",
   "metadata": {},
   "source": [
    "### running the dockerfile in the terminal\n",
    "\n",
    "**docker build -t taxi_ingest:v001 .**\n",
    "\n",
    "don't forget about the . at the end for the docker to find the Dockerfile to build it else it will flag error msg\n",
    "\n",
    "docker run -it \\\n",
    "  --network=pg-network \\\n",
    "  taxi_ingest:v001 \\\n",
    "  --user=root \\\n",
    "  --password=root \\\n",
    "  --host=pg-database \\\n",
    "  --port=5432 \\\n",
    "  --db=ny_taxi \\\n",
    "  --table_name=yellow_taxi_trips \"\n"
   ]
  },
  {
   "cell_type": "markdown",
   "id": "0b334ba7",
   "metadata": {},
   "source": [
    "### create docker volume for github codespace\n",
    "\n",
    "```docker create volume dtc_postgres_volume_local```\n",
    "\n",
    "```\n",
    "docker run -it \\\n",
    "-e PGADMIN_DEFAULT_EMAIL=\"admin@admin.com\" \\\n",
    "-e PGADMIN_DEFAULT_PASSWORD=\"root\" \\\n",
    "-e PGADMIN_CONFIG_PROXY_X_HOST_COUNT=1 \\\n",
    "-e PGADMIN_CONFIG_PROXY_X_PREFIX_COUNT=1 \\\n",
    "-p 8080:80 \\\n",
    "--network=pg-network \\\n",
    "--name pgadmin-2 \\\n",
    "dpage/pgadmin4\n",
    "```\n"
   ]
  }
 ],
 "metadata": {
  "kernelspec": {
   "display_name": "Python 3",
   "language": "python",
   "name": "python3"
  },
  "language_info": {
   "codemirror_mode": {
    "name": "ipython",
    "version": 3
   },
   "file_extension": ".py",
   "mimetype": "text/x-python",
   "name": "python",
   "nbconvert_exporter": "python",
   "pygments_lexer": "ipython3",
   "version": "3.12.1"
  }
 },
 "nbformat": 4,
 "nbformat_minor": 5
}
