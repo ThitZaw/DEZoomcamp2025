{
 "cells": [
  {
   "cell_type": "code",
   "execution_count": null,
   "id": "f6f09f81-66ae-4b56-80bf-e00b853e5f2b",
   "metadata": {
    "vscode": {
     "languageId": "python"
    }
   },
   "outputs": [],
   "source": [
    "print(\"Hello from GitHub Codespaces!\")"
   ]
  },
  {
   "cell_type": "markdown",
   "id": "99f9cb15",
   "metadata": {},
   "source": [
    "# docker command"
   ]
  },
  {
   "cell_type": "markdown",
   "id": "eccfbbf9",
   "metadata": {},
   "source": [
    "docker network create pg-network\n",
    "\n",
    "docker volume create --name dtc_postgres_volume_local -d local\n",
    "\n",
    "docker run -it \\\n",
    "\t-e POSTGRES_USER=\"root\" \\\n",
    "\t-e POSTGRES_PASSWORD=\"root\" \\\n",
    "\t-e POSTGRES_DB=\"ny_taxi\" \\\n",
    "\t-v dtc_postgres_volume_local:var/lib/postgresql/data \\\n",
    "\t-p 5432:5432 \\\n",
    "\t--network=pg-network \\\n",
    "\t--name pg-database \\\n",
    "\tpostgres:13\n",
    "\t\n",
    "\t\n",
    "docker run -it \\\n",
    "\t-e PGADMIN_DEFAULT_EMAIL=\"admin@admin.com\" \\\n",
    "\t-e PGADMIN_DEFAULT_PASSWORD=\"root\" \\\n",
    "\t-p 8080:80 \\\n",
    "\t--network=pg-network \\\n",
    "\t--name pgadmin \\\n",
    "\tdpage/pgadmin4\n"
   ]
  }
 ],
 "metadata": {
  "kernelspec": {
   "display_name": "",
   "name": ""
  },
  "language_info": {
   "name": ""
  }
 },
 "nbformat": 4,
 "nbformat_minor": 5
}
